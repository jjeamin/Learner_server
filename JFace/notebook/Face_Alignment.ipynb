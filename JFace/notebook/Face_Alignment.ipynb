{
 "cells": [
  {
   "cell_type": "code",
   "execution_count": 27,
   "outputs": [],
   "source": [
    "from imutils.face_utils import FaceAligner\n",
    "from imutils.face_utils import rect_to_bb\n",
    "import imutils\n",
    "import dlib\n",
    "import cv2"
   ],
   "metadata": {
    "collapsed": false,
    "pycharm": {
     "name": "#%%\n"
    }
   }
  },
  {
   "cell_type": "code",
   "execution_count": 28,
   "outputs": [],
   "source": [
    "detector = dlib.get_frontal_face_detector()\n",
    "predictor = dlib.shape_predictor(\"../models/shape_predictor_5_face_landmarks.dat\")\n",
    "# predictor = dlib.shape_predictor(\"../models/shape_predictor_68_face_landmarks.dat\")\n",
    "fa = FaceAligner(predictor, desiredFaceWidth=256)"
   ],
   "metadata": {
    "collapsed": false,
    "pycharm": {
     "name": "#%%\n"
    }
   }
  },
  {
   "cell_type": "code",
   "execution_count": 29,
   "outputs": [],
   "source": [
    "input_image = \"test.jpg\"\n",
    "crop_image = \"crop.jpg\"\n",
    "align_image = \"align.jpg\""
   ],
   "metadata": {
    "collapsed": false,
    "pycharm": {
     "name": "#%%\n"
    }
   }
  },
  {
   "cell_type": "code",
   "execution_count": 30,
   "outputs": [],
   "source": [
    "image = cv2.imread(input_image)\n",
    "image = imutils.resize(image, width=800)\n",
    "\n",
    "gray = cv2.cvtColor(image, cv2.COLOR_BGR2GRAY)\n",
    "rects = detector(gray, 2)"
   ],
   "metadata": {
    "collapsed": false,
    "pycharm": {
     "name": "#%%\n"
    }
   }
  },
  {
   "cell_type": "code",
   "execution_count": 31,
   "outputs": [],
   "source": [
    "for rect in rects:\n",
    "    (x, y, w, h) = rect_to_bb(rect)\n",
    "    faceOrig = imutils.resize(image[y:y + h, x:x + w], width=256)\n",
    "    faceAligned = fa.align(image, gray, rect)\n",
    "\n",
    "    gray = cv2.cvtColor(faceAligned, cv2.COLOR_BGR2GRAY)\n",
    "    rects = detector(gray, 2)\n",
    "\n",
    "    for rect in rects:\n",
    "        (x, y, w, h) = rect_to_bb(rect)\n",
    "        faceAligned = imutils.resize(faceAligned[y:y + h, x:x + w], width=256)\n",
    "\n",
    "    cv2.imwrite(crop_image, faceOrig)\n",
    "    cv2.imwrite(align_image, faceAligned)\n",
    "    \n",
    "    cv2.waitKey(0)"
   ],
   "metadata": {
    "collapsed": false,
    "pycharm": {
     "name": "#%%\n"
    }
   }
  }
 ],
 "metadata": {
  "kernelspec": {
   "display_name": "api",
   "language": "python",
   "name": "api"
  },
  "language_info": {
   "codemirror_mode": {
    "name": "ipython",
    "version": 3
   },
   "file_extension": ".py",
   "mimetype": "text/x-python",
   "name": "python",
   "nbconvert_exporter": "python",
   "pygments_lexer": "ipython3",
   "version": "3.7.7"
  }
 },
 "nbformat": 4,
 "nbformat_minor": 4
}